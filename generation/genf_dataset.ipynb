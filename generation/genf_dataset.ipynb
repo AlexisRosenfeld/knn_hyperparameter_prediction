{
 "cells": [
  {
   "cell_type": "code",
   "execution_count": 1,
   "metadata": {},
   "outputs": [
    {
     "name": "stdout",
     "output_type": "stream",
     "text": [
      "Dataset saved to raw_generated_data/g1.csv\n",
      "Dataset saved to raw_generated_data/g2.csv\n",
      "Dataset saved to raw_generated_data/g3.csv\n",
      "Dataset saved to raw_generated_data/g4.csv\n",
      "Dataset saved to raw_generated_data/g5.csv\n",
      "Dataset saved to raw_generated_data/g6.csv\n",
      "Dataset saved to raw_generated_data/g7.csv\n",
      "Dataset saved to raw_generated_data/g8.csv\n",
      "Dataset saved to raw_generated_data/g9.csv\n",
      "Dataset saved to raw_generated_data/g10.csv\n"
     ]
    }
   ],
   "source": [
    "from data_generation import genf_dataset\n",
    "\n",
    "# Generate and save 10 datasets\n",
    "for i in range(1, 11):\n",
    "    genf_dataset(index=i)"
   ]
  }
 ],
 "metadata": {
  "kernelspec": {
   "display_name": "alexisrosenfeld-3CWC9XQS",
   "language": "python",
   "name": "python3"
  },
  "language_info": {
   "codemirror_mode": {
    "name": "ipython",
    "version": 3
   },
   "file_extension": ".py",
   "mimetype": "text/x-python",
   "name": "python",
   "nbconvert_exporter": "python",
   "pygments_lexer": "ipython3",
   "version": "3.12.6"
  }
 },
 "nbformat": 4,
 "nbformat_minor": 2
}
